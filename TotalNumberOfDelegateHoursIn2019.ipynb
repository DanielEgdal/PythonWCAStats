{
 "cells": [
  {
   "cell_type": "code",
   "execution_count": 129,
   "metadata": {},
   "outputs": [],
   "source": [
    "import pandas as pd"
   ]
  },
  {
   "cell_type": "code",
   "execution_count": 131,
   "metadata": {},
   "outputs": [],
   "source": [
    "df = pd.read_csv('schedules2019.csv')\n",
    "# CSV File generated from developer export from SQL. "
   ]
  },
  {
   "cell_type": "code",
   "execution_count": 47,
   "metadata": {},
   "outputs": [
    {
     "data": {
      "text/html": [
       "<div>\n",
       "<style scoped>\n",
       "    .dataframe tbody tr th:only-of-type {\n",
       "        vertical-align: middle;\n",
       "    }\n",
       "\n",
       "    .dataframe tbody tr th {\n",
       "        vertical-align: top;\n",
       "    }\n",
       "\n",
       "    .dataframe thead th {\n",
       "        text-align: right;\n",
       "    }\n",
       "</style>\n",
       "<table border=\"1\" class=\"dataframe\">\n",
       "  <thead>\n",
       "    <tr style=\"text-align: right;\">\n",
       "      <th></th>\n",
       "      <th>id</th>\n",
       "      <th>delegate_id</th>\n",
       "      <th>activity_code</th>\n",
       "      <th>start_time</th>\n",
       "      <th>end_time</th>\n",
       "    </tr>\n",
       "  </thead>\n",
       "  <tbody>\n",
       "    <tr>\n",
       "      <th>0</th>\n",
       "      <td>BritishSummerOpen2019</td>\n",
       "      <td>314</td>\n",
       "      <td>666-r1</td>\n",
       "      <td>2019-06-29 18:00:00</td>\n",
       "      <td>2019-06-29 18:50:00</td>\n",
       "    </tr>\n",
       "    <tr>\n",
       "      <th>1</th>\n",
       "      <td>BritishSummerOpen2019</td>\n",
       "      <td>1197</td>\n",
       "      <td>666-r1</td>\n",
       "      <td>2019-06-29 18:00:00</td>\n",
       "      <td>2019-06-29 18:50:00</td>\n",
       "    </tr>\n",
       "    <tr>\n",
       "      <th>2</th>\n",
       "      <td>BritishSummerOpen2019</td>\n",
       "      <td>314</td>\n",
       "      <td>777-r1</td>\n",
       "      <td>2019-06-29 18:50:00</td>\n",
       "      <td>2019-06-29 19:40:00</td>\n",
       "    </tr>\n",
       "    <tr>\n",
       "      <th>3</th>\n",
       "      <td>BritishSummerOpen2019</td>\n",
       "      <td>1197</td>\n",
       "      <td>777-r1</td>\n",
       "      <td>2019-06-29 18:50:00</td>\n",
       "      <td>2019-06-29 19:40:00</td>\n",
       "    </tr>\n",
       "    <tr>\n",
       "      <th>4</th>\n",
       "      <td>VIQBer2019</td>\n",
       "      <td>289</td>\n",
       "      <td>other-registration</td>\n",
       "      <td>2019-01-19 09:00:00</td>\n",
       "      <td>2019-01-19 09:15:00</td>\n",
       "    </tr>\n",
       "  </tbody>\n",
       "</table>\n",
       "</div>"
      ],
      "text/plain": [
       "                      id  delegate_id       activity_code  \\\n",
       "0  BritishSummerOpen2019          314              666-r1   \n",
       "1  BritishSummerOpen2019         1197              666-r1   \n",
       "2  BritishSummerOpen2019          314              777-r1   \n",
       "3  BritishSummerOpen2019         1197              777-r1   \n",
       "4             VIQBer2019          289  other-registration   \n",
       "\n",
       "            start_time             end_time  \n",
       "0  2019-06-29 18:00:00  2019-06-29 18:50:00  \n",
       "1  2019-06-29 18:00:00  2019-06-29 18:50:00  \n",
       "2  2019-06-29 18:50:00  2019-06-29 19:40:00  \n",
       "3  2019-06-29 18:50:00  2019-06-29 19:40:00  \n",
       "4  2019-01-19 09:00:00  2019-01-19 09:15:00  "
      ]
     },
     "execution_count": 47,
     "metadata": {},
     "output_type": "execute_result"
    }
   ],
   "source": [
    "df.head() # Ideally things like 'registration' should be counted from the total sum, but I couldn't do it."
   ]
  },
  {
   "cell_type": "code",
   "execution_count": 79,
   "metadata": {},
   "outputs": [],
   "source": [
    "df = df.astype({\"start_time\": \"datetime64[ns]\",\"end_time\": \"datetime64[ns]\"}) # Get managable columns for adding times"
   ]
  },
  {
   "cell_type": "code",
   "execution_count": 81,
   "metadata": {},
   "outputs": [],
   "source": [
    "delegate = df.groupby(['id'])[\"delegate_id\"].nunique() # delegate count per comp"
   ]
  },
  {
   "cell_type": "code",
   "execution_count": 82,
   "metadata": {},
   "outputs": [],
   "source": [
    "end = df.groupby(['id'])[\"end_time\"].max() # latest scheduled time, i.e. end of comp"
   ]
  },
  {
   "cell_type": "code",
   "execution_count": 83,
   "metadata": {},
   "outputs": [],
   "source": [
    "sta = df.groupby(['id'])[\"start_time\"].min()"
   ]
  },
  {
   "cell_type": "code",
   "execution_count": 103,
   "metadata": {},
   "outputs": [],
   "source": [
    "temp = end-sta # Amount of time the comp ran for"
   ]
  },
  {
   "cell_type": "code",
   "execution_count": 133,
   "metadata": {},
   "outputs": [],
   "source": [
    "final = temp*delegate # Mulitplying by Delegate"
   ]
  },
  {
   "cell_type": "code",
   "execution_count": 134,
   "metadata": {},
   "outputs": [
    {
     "name": "stdout",
     "output_type": "stream",
     "text": [
      "2102 days 09:55:00\n"
     ]
    }
   ],
   "source": [
    "nu = 0\n",
    "for val in final:\n",
    "    try:\n",
    "        nu += val\n",
    "    except TypeError:\n",
    "        nu = val\n",
    "        \n",
    "print(nu)"
   ]
  },
  {
   "cell_type": "code",
   "execution_count": null,
   "metadata": {},
   "outputs": [],
   "source": []
  },
  {
   "cell_type": "code",
   "execution_count": null,
   "metadata": {},
   "outputs": [],
   "source": []
  }
 ],
 "metadata": {
  "kernelspec": {
   "display_name": "Python 3",
   "language": "python",
   "name": "python3"
  },
  "language_info": {
   "codemirror_mode": {
    "name": "ipython",
    "version": 3
   },
   "file_extension": ".py",
   "mimetype": "text/x-python",
   "name": "python",
   "nbconvert_exporter": "python",
   "pygments_lexer": "ipython3",
   "version": "3.7.3"
  }
 },
 "nbformat": 4,
 "nbformat_minor": 2
}
