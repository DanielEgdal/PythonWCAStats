{
 "cells": [
  {
   "cell_type": "code",
   "execution_count": 10,
   "id": "4aa4e8ff",
   "metadata": {},
   "outputs": [],
   "source": [
    "import geopandas as gpd\n",
    "import polars as pl\n",
    "from shapely import Point\n",
    "import pandas as pd\n",
    "pd.set_option('display.max_rows', 30)"
   ]
  },
  {
   "cell_type": "code",
   "execution_count": 2,
   "id": "c61f7969",
   "metadata": {},
   "outputs": [],
   "source": [
    "comp_path = '../wca_export/WCA_export_Competitions.tsv'\n",
    "res_path = '../wca_export/WCA_export_Results.tsv'"
   ]
  },
  {
   "cell_type": "code",
   "execution_count": 3,
   "id": "c4d2343d",
   "metadata": {},
   "outputs": [],
   "source": [
    "b_comps = (pl.read_csv(comp_path,sep='\\t')).lazy().filter(pl.col('countryId')=='Brazil')\n",
    "res = pl.read_csv(res_path,sep='\\t').lazy()\n",
    "\n",
    "b_res = b_comps.join(res,left_on='id',right_on='competitionId').select([\"id\",\"personId\",\"personName\",'latitude','longitude'])\n",
    "b_res = b_res.groupby(['id','personId']).first().collect().to_pandas()\n",
    "b_res['latitude'] /= 1000000\n",
    "b_res['longitude'] /= 1000000"
   ]
  },
  {
   "cell_type": "code",
   "execution_count": 4,
   "id": "e1648b57",
   "metadata": {},
   "outputs": [],
   "source": [
    "# Download the file here (note, I renamed the file extension): \n",
    "# https://github.com/giuliano-oliveira/geodata-br-states/blob/main/geojson/br_states.json\n",
    "brazil = gpd.read_file('br_states.geojson') "
   ]
  },
  {
   "cell_type": "code",
   "execution_count": 5,
   "id": "d006fc24",
   "metadata": {},
   "outputs": [],
   "source": [
    "b_res['geometry'] = b_res.apply(lambda x: Point(x.longitude, x.latitude), axis=1)\n",
    "geo_res = gpd.GeoDataFrame(b_res, crs=brazil.crs)"
   ]
  },
  {
   "cell_type": "code",
   "execution_count": 6,
   "id": "7586ff47",
   "metadata": {},
   "outputs": [],
   "source": [
    "person_states = gpd.sjoin(brazil, geo_res, predicate='contains')"
   ]
  },
  {
   "cell_type": "code",
   "execution_count": 7,
   "id": "162f4d2c",
   "metadata": {},
   "outputs": [],
   "source": [
    "state_count = pd.DataFrame(person_states.groupby('personId')['Estado'].nunique().sort_values(ascending=False))"
   ]
  },
  {
   "cell_type": "code",
   "execution_count": 8,
   "id": "80cfcff2",
   "metadata": {},
   "outputs": [
    {
     "data": {
      "text/html": [
       "<div>\n",
       "<style scoped>\n",
       "    .dataframe tbody tr th:only-of-type {\n",
       "        vertical-align: middle;\n",
       "    }\n",
       "\n",
       "    .dataframe tbody tr th {\n",
       "        vertical-align: top;\n",
       "    }\n",
       "\n",
       "    .dataframe thead th {\n",
       "        text-align: right;\n",
       "    }\n",
       "</style>\n",
       "<table border=\"1\" class=\"dataframe\">\n",
       "  <thead>\n",
       "    <tr style=\"text-align: right;\">\n",
       "      <th></th>\n",
       "      <th>Estado</th>\n",
       "    </tr>\n",
       "    <tr>\n",
       "      <th>personId</th>\n",
       "      <th></th>\n",
       "    </tr>\n",
       "  </thead>\n",
       "  <tbody>\n",
       "    <tr>\n",
       "      <th>2007CINO01</th>\n",
       "      <td>20</td>\n",
       "    </tr>\n",
       "    <tr>\n",
       "      <th>2010GRAC02</th>\n",
       "      <td>20</td>\n",
       "    </tr>\n",
       "    <tr>\n",
       "      <th>2016SATO01</th>\n",
       "      <td>11</td>\n",
       "    </tr>\n",
       "    <tr>\n",
       "      <th>2015BELO02</th>\n",
       "      <td>11</td>\n",
       "    </tr>\n",
       "    <tr>\n",
       "      <th>2017MAND13</th>\n",
       "      <td>11</td>\n",
       "    </tr>\n",
       "    <tr>\n",
       "      <th>2015CARV06</th>\n",
       "      <td>10</td>\n",
       "    </tr>\n",
       "    <tr>\n",
       "      <th>2017NOVA05</th>\n",
       "      <td>9</td>\n",
       "    </tr>\n",
       "    <tr>\n",
       "      <th>2019MORA23</th>\n",
       "      <td>9</td>\n",
       "    </tr>\n",
       "    <tr>\n",
       "      <th>2015IACO01</th>\n",
       "      <td>9</td>\n",
       "    </tr>\n",
       "    <tr>\n",
       "      <th>2012MENE01</th>\n",
       "      <td>9</td>\n",
       "    </tr>\n",
       "    <tr>\n",
       "      <th>2007CERP02</th>\n",
       "      <td>9</td>\n",
       "    </tr>\n",
       "    <tr>\n",
       "      <th>2014MARQ02</th>\n",
       "      <td>9</td>\n",
       "    </tr>\n",
       "    <tr>\n",
       "      <th>2014TONO01</th>\n",
       "      <td>9</td>\n",
       "    </tr>\n",
       "    <tr>\n",
       "      <th>2015CECC01</th>\n",
       "      <td>9</td>\n",
       "    </tr>\n",
       "    <tr>\n",
       "      <th>2011GUEL01</th>\n",
       "      <td>9</td>\n",
       "    </tr>\n",
       "    <tr>\n",
       "      <th>2016LIPS01</th>\n",
       "      <td>8</td>\n",
       "    </tr>\n",
       "    <tr>\n",
       "      <th>2011SATO01</th>\n",
       "      <td>8</td>\n",
       "    </tr>\n",
       "    <tr>\n",
       "      <th>2011SOBR01</th>\n",
       "      <td>8</td>\n",
       "    </tr>\n",
       "    <tr>\n",
       "      <th>2014OTER01</th>\n",
       "      <td>8</td>\n",
       "    </tr>\n",
       "    <tr>\n",
       "      <th>2012MAIA01</th>\n",
       "      <td>8</td>\n",
       "    </tr>\n",
       "  </tbody>\n",
       "</table>\n",
       "</div>"
      ],
      "text/plain": [
       "            Estado\n",
       "personId          \n",
       "2007CINO01      20\n",
       "2010GRAC02      20\n",
       "2016SATO01      11\n",
       "2015BELO02      11\n",
       "2017MAND13      11\n",
       "2015CARV06      10\n",
       "2017NOVA05       9\n",
       "2019MORA23       9\n",
       "2015IACO01       9\n",
       "2012MENE01       9\n",
       "2007CERP02       9\n",
       "2014MARQ02       9\n",
       "2014TONO01       9\n",
       "2015CECC01       9\n",
       "2011GUEL01       9\n",
       "2016LIPS01       8\n",
       "2011SATO01       8\n",
       "2011SOBR01       8\n",
       "2014OTER01       8\n",
       "2012MAIA01       8"
      ]
     },
     "execution_count": 8,
     "metadata": {},
     "output_type": "execute_result"
    }
   ],
   "source": [
    "state_count.head(20)"
   ]
  },
  {
   "cell_type": "code",
   "execution_count": 1,
   "id": "62b8800c",
   "metadata": {},
   "outputs": [],
   "source": [
    "# show the map, takes a bit of time\n",
    "# person_states[person_states['personId'] == '2007CINO01'].explore()"
   ]
  }
 ],
 "metadata": {
  "kernelspec": {
   "display_name": "Python 3 (ipykernel)",
   "language": "python",
   "name": "python3"
  },
  "language_info": {
   "codemirror_mode": {
    "name": "ipython",
    "version": 3
   },
   "file_extension": ".py",
   "mimetype": "text/x-python",
   "name": "python",
   "nbconvert_exporter": "python",
   "pygments_lexer": "ipython3",
   "version": "3.10.12"
  }
 },
 "nbformat": 4,
 "nbformat_minor": 5
}
